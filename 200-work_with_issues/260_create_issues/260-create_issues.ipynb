{
 "cells": [
  {
   "cell_type": "markdown",
   "metadata": {},
   "source": [
    "# purpose\n",
    "\n",
    "- this script helps you efficiently create new GitHub issues with customized properties, including name, description, and labels\n"
   ]
  },
  {
   "cell_type": "markdown",
   "metadata": {},
   "source": [
    "# structure\n",
    "\n",
    "- **fetch labels**\n",
    "  - retrieve the list of available labels along with their IDs\n",
    "  - save this information to a csv file for easy reference when creating new issues\n",
    "- **fetch repositories**\n",
    "  - retrieve the list of available repositories and their corresponding IDs\n",
    "  - save this data to a csv file to streamline the process of assigning repositories to new issues\n",
    "- **prepare issue details**\n",
    "  - construct a json structure to define the new issue\n",
    "  - customize the issue by adding the desired name, description, and other attributes\n",
    "  - ensure to use the repository_id and label_ids from the csv files generated in the previous steps\n",
    "- **create issue**\n",
    "  - use the prepared json structure to create a new issue\n",
    "  - receive a response containing the details of the newly created issue"
   ]
  },
  {
   "cell_type": "markdown",
   "metadata": {},
   "source": [
    "# setup\n"
   ]
  },
  {
   "cell_type": "code",
   "execution_count": null,
   "metadata": {},
   "outputs": [],
   "source": [
    "# fetch github token, python packages, queries and other parameters\n",
    "\n",
    "%run ../../100-set_parameters/100-set_parameters.ipynb # magic commands"
   ]
  },
  {
   "cell_type": "markdown",
   "metadata": {},
   "source": [
    "# set parameters\n",
    "\n",
    "- set the parameters that will be used by the rest of the script\n"
   ]
  },
  {
   "cell_type": "code",
   "execution_count": null,
   "metadata": {},
   "outputs": [],
   "source": [
    "# query parameters\n",
    "# github does not allow fetching more than 100 records\n",
    "\n",
    "fetch_issue_parameters = {\n",
    "    \"repository_name\": \"UPDATE_ME\",\n",
    "    \"owner_name\": \"UPDATE_ME\",\n",
    "    \"number_of_issues\": 100,\n",
    "    \"number_of_labels\": 100,\n",
    "    \"number_of_repositories\": 100,\n",
    "    \"number_of_user_ids\": 100,\n",
    "    \"login_user\": \"UPDATE_ME\"\n",
    "  }"
   ]
  },
  {
   "cell_type": "markdown",
   "metadata": {},
   "source": [
    "# fetch labels\n"
   ]
  },
  {
   "cell_type": "code",
   "execution_count": null,
   "metadata": {},
   "outputs": [],
   "source": [
    "# labels dictionary\n",
    "\n",
    "labels_dictionary = global_query(fetch_100_labels, fetch_issue_parameters)"
   ]
  },
  {
   "cell_type": "code",
   "execution_count": null,
   "metadata": {},
   "outputs": [],
   "source": [
    "# list of labels\n",
    "\n",
    "## first create a list of labels\n",
    "list_of_labels = labels_dictionary['data']['repository']['labels']['nodes']\n",
    "labels_filename = '260-list_of_labels.csv'\n",
    "labels_fieldnames = ['id', 'name']\n",
    "\n",
    "# now dump it into a csv file\n",
    "with open(labels_filename, 'w', newline='') as labels_csv_file:\n",
    "    writer = csv.DictWriter(labels_csv_file, fieldnames=labels_fieldnames)\n",
    "    writer.writeheader()\n",
    "    writer.writerows(list_of_labels)"
   ]
  },
  {
   "cell_type": "markdown",
   "metadata": {},
   "source": [
    "# fetch repositories\n"
   ]
  },
  {
   "cell_type": "code",
   "execution_count": null,
   "metadata": {},
   "outputs": [],
   "source": [
    "# repository dictionary\n",
    "\n",
    "repository_dictionary = global_query(fetch_100_repositories, fetch_issue_parameters)"
   ]
  },
  {
   "cell_type": "code",
   "execution_count": null,
   "metadata": {},
   "outputs": [],
   "source": [
    "# list of repositories\n",
    "\n",
    "# fetch list of repositories\n",
    "list_of_repositories = repository_dictionary['data']['user']['repositories']['edges']\n",
    "repositories_filename = '260-list_of_repositories.csv'\n",
    "repositories_fieldnames = ['id', 'name']\n",
    "\n",
    "# now dump it into a csv\n",
    "with open(repositories_filename, 'w', newline='') as repositories_csv_file:\n",
    "    writer = csv.DictWriter(repositories_csv_file, fieldnames=repositories_fieldnames)\n",
    "    writer.writeheader()\n",
    "    for row in list_of_repositories:\n",
    "        writer.writerow({'id': row['node']['id'], 'name': row['node']['name']})"
   ]
  },
  {
   "cell_type": "markdown",
   "metadata": {},
   "source": [
    "# fetch user ids\n"
   ]
  },
  {
   "cell_type": "code",
   "execution_count": null,
   "metadata": {},
   "outputs": [],
   "source": [
    "# user id dictionary\n",
    "\n",
    "user_id_dictionary = global_query(fetch_100_user_ids, fetch_issue_parameters)"
   ]
  },
  {
   "cell_type": "code",
   "execution_count": null,
   "metadata": {},
   "outputs": [],
   "source": [
    "# list of user ids\n",
    "\n",
    "# fetch list of user ids\n",
    "list_of_user_ids = user_id_dictionary['data']['repository']['collaborators']['edges']\n",
    "user_ids_filename = '260-list_of_user_ids.csv'\n",
    "user_ids_fieldnames = ['id', 'name']\n",
    "\n",
    "# dump it into a csv file\n",
    "with open(user_ids_filename, 'w', newline='') as user_ids_csv_file:\n",
    "    writer = csv.DictWriter(user_ids_csv_file, fieldnames=user_ids_fieldnames)\n",
    "    writer.writeheader()\n",
    "    for row in list_of_user_ids:\n",
    "        writer.writerow({'id': row['node']['id'], 'name': row['node']['name']})"
   ]
  },
  {
   "cell_type": "code",
   "execution_count": null,
   "metadata": {},
   "outputs": [],
   "source": [
    "# new user id\n",
    "\n",
    "# github node ids are being migrated\n",
    "# so in the previous query when you ask for all assigneeIDs, github gives you values for each user\n",
    "# one value is the legacy_user_id and another value is the new_user_id\n",
    "# use the new_user_id when creating issues in the next steps\n",
    "# more details here - https://docs.github.com/en/graphql/guides/migrating-graphql-global-node-ids"
   ]
  },
  {
   "cell_type": "markdown",
   "metadata": {},
   "source": [
    "# create single issue\n"
   ]
  },
  {
   "cell_type": "code",
   "execution_count": null,
   "metadata": {},
   "outputs": [],
   "source": [
    "# specify issue details\n",
    "\n",
    "# in the previous steps, we have fetched all the details that are needed to create the issue\n",
    "# we fetched earlier the label ids to be passed as a list \"labelIds\" below\n",
    "# then we also fetched the id for all our repositories - pass it as \"repositoryId\"\n",
    "# \"assigneeIds\" has been fetched as user id in the previous step\n",
    "\n",
    "create_issue_with_these_details = {\n",
    "  \"query_input\": {\n",
    "    \"repositoryId\": \"R_kgDOHQ63-g\",\n",
    "    \"title\": \"10 test issue\",\n",
    "    \"body\": \"10 test issue description\",\n",
    "    \"labelIds\": [\"LA_kwDOHQ63-s7ztW_L\", \"LA_kwDOHQ63-s7ztYm7\", \"LA_kwDOHQ63-s7ztYr4\"],\n",
    "    \"assigneeIds\": \"U_kgDOAZEaHQ\"\n",
    "  }\n",
    "  }"
   ]
  },
  {
   "cell_type": "code",
   "execution_count": null,
   "metadata": {},
   "outputs": [],
   "source": [
    "# create issue mutation\n",
    "\n",
    "create_issue_mutation = \"\"\"\n",
    "mutation ($query_input: CreateIssueInput!) {\n",
    "  createIssue(input: $query_input) {\n",
    "    issue {\n",
    "      id\n",
    "      number\n",
    "      title\n",
    "      body\n",
    "      state\n",
    "      labels(first: 100) {\n",
    "        edges {\n",
    "          node {\n",
    "            id\n",
    "          }\n",
    "        }\n",
    "      }\n",
    "      assignees(first: 10) {\n",
    "        edges {\n",
    "          node {\n",
    "            id\n",
    "            name\n",
    "          }\n",
    "        }\n",
    "      }\n",
    "    }\n",
    "  }\n",
    "}\n",
    "\"\"\""
   ]
  },
  {
   "cell_type": "code",
   "execution_count": null,
   "metadata": {},
   "outputs": [],
   "source": [
    "# execute mutation\n",
    "\n",
    "issue_created = global_query(create_issue_mutation, create_issue_with_these_details)"
   ]
  },
  {
   "cell_type": "code",
   "execution_count": null,
   "metadata": {},
   "outputs": [],
   "source": [
    "# print output\n",
    "\n",
    "print(json.dumps(issue_created, indent=4))\n"
   ]
  }
 ],
 "metadata": {
  "kernelspec": {
   "display_name": "Python 3",
   "language": "python",
   "name": "python3"
  },
  "language_info": {
   "codemirror_mode": {
    "name": "ipython",
    "version": 3
   },
   "file_extension": ".py",
   "mimetype": "text/x-python",
   "name": "python",
   "nbconvert_exporter": "python",
   "pygments_lexer": "ipython3",
   "version": "3.12.3"
  },
  "orig_nbformat": 4,
  "vscode": {
   "interpreter": {
    "hash": "949777d72b0d2535278d3dc13498b2535136f6dfe0678499012e853ee9abcab1"
   }
  }
 },
 "nbformat": 4,
 "nbformat_minor": 2
}
