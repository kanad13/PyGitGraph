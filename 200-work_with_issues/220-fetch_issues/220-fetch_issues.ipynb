{
 "cells": [
  {
   "cell_type": "markdown",
   "metadata": {},
   "source": [
    "# purpose\n",
    "\n",
    "- fetch open/closed issues and use github issue numbers to:\n",
    "  - close existing issues\n",
    "  - edit open issues\n",
    "  - delete open issues\n"
   ]
  },
  {
   "cell_type": "markdown",
   "metadata": {},
   "source": [
    "# structure\n",
    "\n",
    "- **fetch issues**\n",
    "  - fetch the last 10 open and closed issues\n",
    "  - that allows me to close open issues or reopen closed issues\n",
    "- **dataframe data**\n",
    "  - make a pandas dataframe from the data fetched from github\n",
    "  - this is a nested dictionary - each comment and lable is a node inside the corresponding issue\n",
    "  - so the comments and labels have been exploded into their own separate lines\n",
    "- **insert data**\n",
    "  - insert the pandas dataframe into json, csv and excel files\n",
    "  - this data can then be used for building historical analysis\n"
   ]
  },
  {
   "cell_type": "markdown",
   "metadata": {},
   "source": [
    "# setup\n"
   ]
  },
  {
   "cell_type": "code",
   "execution_count": null,
   "metadata": {},
   "outputs": [],
   "source": [
    "# fetch github token, python packages, queries and other parameters\n",
    "\n",
    "%run ../../100-set_parameters/100-set_parameters.ipynb # magic commands"
   ]
  },
  {
   "cell_type": "markdown",
   "metadata": {},
   "source": [
    "# fetch issues\n"
   ]
  },
  {
   "cell_type": "code",
   "execution_count": null,
   "metadata": {},
   "outputs": [],
   "source": [
    "# query parameters\n",
    "# specify the query parameters to be used while fetching issues\n",
    "# github does not allow fetching more than 100 issues\n",
    "\n",
    "fetch_issue_parameters = {\n",
    "    \"repository_name\": \"tensorflow\",\n",
    "    \"owner_name\": \"tensorflow\",\n",
    "    \"number_of_issues\": 100\n",
    "  }"
   ]
  },
  {
   "cell_type": "code",
   "execution_count": null,
   "metadata": {},
   "outputs": [],
   "source": [
    "# store result\n",
    "\n",
    "last_few_issues = global_query(fetch_recent_issues, fetch_issue_parameters)"
   ]
  },
  {
   "cell_type": "markdown",
   "metadata": {},
   "source": [
    "# populate dataframe\n"
   ]
  },
  {
   "cell_type": "markdown",
   "metadata": {},
   "source": [
    "## dictionary to dataframe\n"
   ]
  },
  {
   "cell_type": "code",
   "execution_count": null,
   "metadata": {},
   "outputs": [],
   "source": [
    "# drill down\n",
    "# take the dictionary result from previous step\n",
    "# reach out to a particular level within that dictionary (edges in this case)\n",
    "# store that inside a dataframe\n",
    "\n",
    "df = pd.DataFrame(d['node'] for d in last_few_issues['data']['repository']['issues']['edges'])"
   ]
  },
  {
   "cell_type": "markdown",
   "metadata": {},
   "source": [
    "## flatten nested data\n",
    "\n",
    "- GitHub responds with a nested structure for the query above.\n",
    "- in this response, each issue may contain various sub-elements, such as labels and comments\n",
    "- for example, an issue might have the following structure:\n",
    "\n",
    "```json\n",
    "{\n",
    "\t\"id\": \"issue-id\",\n",
    "\t\"title\": \"Example Issue\",\n",
    "\t\"labels\": [{ \"name\": \"bug\" }, { \"name\": \"enhancement\" }],\n",
    "\t\"comments\": [{ \"body\": \"This is a comment.\" }, { \"body\": \"Another comment.\" }]\n",
    "}\n",
    "```\n",
    "\n",
    "- in this nested structure, labels and comments are each grouped under a single issue, but for visualizations, we need to flatten this structure or explode it\n",
    "- if an issue has multiple labels or comments, we want each label or comment to be represented as a separate record associated with the issue\n",
    "- to achieve this, we can use the following code to flatten the nested data into a DataFrame, enabling easy visualization and analysis:\n"
   ]
  },
  {
   "cell_type": "markdown",
   "metadata": {},
   "source": [
    "## comments\n"
   ]
  },
  {
   "cell_type": "code",
   "execution_count": null,
   "metadata": {},
   "outputs": [],
   "source": [
    "# access comments\n",
    "\n",
    "df['comments'] = df['comments'].str['edges']"
   ]
  },
  {
   "cell_type": "code",
   "execution_count": null,
   "metadata": {},
   "outputs": [],
   "source": [
    "# flatten comments\n",
    "\n",
    "# the comments for each issue are nested under the 'comments' key\n",
    "# code below extracts the nested comments and flatten them into a simpler structure\n",
    "\n",
    "df_flat_comments = df.explode('comments')\n",
    "df_flat_comments['comments'] = df_flat_comments['comments'].str['node'].str['body']\n"
   ]
  },
  {
   "cell_type": "markdown",
   "metadata": {},
   "source": [
    "## labels\n"
   ]
  },
  {
   "cell_type": "code",
   "execution_count": null,
   "metadata": {},
   "outputs": [],
   "source": [
    "# access labels\n",
    "df_flat_comments['labels'] = df_flat_comments['labels'].str['edges']"
   ]
  },
  {
   "cell_type": "code",
   "execution_count": null,
   "metadata": {},
   "outputs": [],
   "source": [
    "# flatten  labels\n",
    "\n",
    "df_flat_comments_and_labels = df_flat_comments.explode('labels')\n",
    "df_flat_comments_and_labels['labels'] = df_flat_comments_and_labels['labels'].str['node'].str['name']"
   ]
  },
  {
   "cell_type": "markdown",
   "metadata": {},
   "source": [
    "## final dataframe\n"
   ]
  },
  {
   "cell_type": "code",
   "execution_count": null,
   "metadata": {},
   "outputs": [],
   "source": [
    "# print to screen\n",
    "\n",
    "df_flat_comments_and_labels"
   ]
  },
  {
   "cell_type": "markdown",
   "metadata": {},
   "source": [
    "# insert data\n"
   ]
  },
  {
   "cell_type": "code",
   "execution_count": null,
   "metadata": {},
   "outputs": [],
   "source": [
    "# insert into csv\n",
    "\n",
    "df_flat_comments_and_labels.to_csv(\"220-fetch_last_few_issues.csv\")"
   ]
  },
  {
   "cell_type": "code",
   "execution_count": null,
   "metadata": {},
   "outputs": [],
   "source": [
    "# insert into json\n",
    "\n",
    "f = open(\"220-fetch_last_few_issues.json\", \"w\")\n",
    "f.write(json.dumps(last_few_issues))\n",
    "f.close()"
   ]
  }
 ],
 "metadata": {
  "kernelspec": {
   "display_name": "Python 3",
   "language": "python",
   "name": "python3"
  },
  "language_info": {
   "codemirror_mode": {
    "name": "ipython",
    "version": 3
   },
   "file_extension": ".py",
   "mimetype": "text/x-python",
   "name": "python",
   "nbconvert_exporter": "python",
   "pygments_lexer": "ipython3",
   "version": "3.12.3"
  },
  "orig_nbformat": 4,
  "vscode": {
   "interpreter": {
    "hash": "949777d72b0d2535278d3dc13498b2535136f6dfe0678499012e853ee9abcab1"
   }
  }
 },
 "nbformat": 4,
 "nbformat_minor": 2
}
