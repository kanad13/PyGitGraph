{
  "cells": [
    {
      "cell_type": "markdown",
      "metadata": {},
      "source": [
        "# purpose\n",
        "\n",
        "- this script allows you to close github issues\n",
        "- you first fetch the last few issues from your github repo\n",
        "- and then identify the issue_id for the issue you would like to close\n",
        "- and then execute the query to close the issue"
      ]
    },
    {
      "cell_type": "markdown",
      "metadata": {},
      "source": [
        "# structure\n",
        "\n",
        "- **fetch issues**\n",
        "  - fetch the last 100 open and closed issues\n",
        "- **dataframe data**\n",
        "  - make a pandas dataframe from the data fetched from github\n",
        "  - this is a nested dictionary - each comment and lable is a node inside the corresponding issue\n",
        "  - so the comments and labels have been exploded into their own separate lines\n",
        "- **close issue**\n",
        "  - go through the issues fetched in previous step and identify the issue_id that needs to be closed\n",
        "  - and then just close"
      ]
    },
    {
      "cell_type": "markdown",
      "metadata": {},
      "source": [
        "# setup"
      ]
    },
    {
      "cell_type": "code",
      "execution_count": null,
      "metadata": {},
      "outputs": [],
      "source": [
        "# fetch github token, python packages, queries and other parameters\n",
        "\n",
        "%run ../../100-set_parameters/100-set_parameters.ipynb # magic commands"
      ]
    },
    {
      "cell_type": "markdown",
      "metadata": {},
      "source": [
        "# fetch issues"
      ]
    },
    {
      "cell_type": "code",
      "execution_count": null,
      "metadata": {},
      "outputs": [],
      "source": [
        "# query parameters\n",
        "# specify the query parameters to be used while fetching issues\n",
        "# github does not allow fetching more than 100 issues\n",
        "\n",
        "fetch_issue_parameters = {\n",
        "    \"repository_name\": \"UPDATE_ME\",\n",
        "    \"owner_name\": \"UPDATE_ME\",\n",
        "    \"number_of_issues\": 100\n",
        "  }"
      ]
    },
    {
      "cell_type": "code",
      "execution_count": null,
      "metadata": {},
      "outputs": [],
      "source": [
        "# store result\n",
        "\n",
        "last_few_issues = global_query(fetch_recent_issues, fetch_issue_parameters)"
      ]
    },
    {
      "cell_type": "markdown",
      "metadata": {},
      "source": [
        "## dictionary to dataframe"
      ]
    },
    {
      "cell_type": "code",
      "execution_count": null,
      "metadata": {},
      "outputs": [],
      "source": [
        "# drill down\n",
        "# take the dictionary result from previous step\n",
        "# reach out to a particular level within that dictionary (edges in this case)\n",
        "# store that inside a dataframe\n",
        "\n",
        "import pandas as pd\n",
        "df = pd.DataFrame(d['node'] for d in last_few_issues['data']['repository']['issues']['edges'])\n",
        "df"
      ]
    },
    {
      "cell_type": "markdown",
      "metadata": {},
      "source": [
        "# close issue"
      ]
    },
    {
      "cell_type": "code",
      "execution_count": null,
      "metadata": {},
      "outputs": [],
      "source": [
        "# specify issue details\n",
        "# in the previous step, we have fetched the issueID for the lastest 10 issues\n",
        "# use that issueID below\n",
        "# https://docs.github.com/en/graphql/reference/input-objects#closeissueinput\n",
        "\n",
        "close_issue_with_these_details =  {\n",
        "\n",
        "  \"issueId\": \"I_kwDOHQ63-s6H2bfl\"\n",
        "\n",
        "}"
      ]
    },
    {
      "cell_type": "code",
      "execution_count": null,
      "metadata": {},
      "outputs": [],
      "source": [
        "# create mutation\n",
        "# graphql mutation to close github issue\n",
        "# https://docs.github.com/en/graphql/reference/mutations#closeissue\n",
        "\n",
        "close_issue_mutation = \"\"\"\n",
        "mutation CloseIssue($issueId: ID!) {\n",
        "  closeIssue(input: {issueId: $issueId})  {\n",
        "    issue {\n",
        "      closed\n",
        "      id\n",
        "      number\n",
        "      state\n",
        "      title\n",
        "      url\n",
        "    }\n",
        "  }\n",
        "}\n",
        "\"\"\""
      ]
    },
    {
      "cell_type": "code",
      "execution_count": null,
      "metadata": {},
      "outputs": [],
      "source": [
        "# execute mutation\n",
        "\n",
        "close_issue_output = global_query(close_issue_mutation, close_issue_with_these_details)"
      ]
    },
    {
      "cell_type": "code",
      "execution_count": null,
      "metadata": {},
      "outputs": [],
      "source": [
        "# print output\n",
        "\n",
        "print(json.dumps(close_issue_output, indent=4))"
      ]
    }
  ],
  "metadata": {
    "kernelspec": {
      "display_name": "Python 3",
      "language": "python",
      "name": "python3"
    },
    "language_info": {
      "codemirror_mode": {
        "name": "ipython",
        "version": 3
      },
      "file_extension": ".py",
      "mimetype": "text/x-python",
      "name": "python",
      "nbconvert_exporter": "python",
      "pygments_lexer": "ipython3",
      "version": "3.12.3"
    },
    "orig_nbformat": 4,
    "vscode": {
      "interpreter": {
        "hash": "949777d72b0d2535278d3dc13498b2535136f6dfe0678499012e853ee9abcab1"
      }
    }
  },
  "nbformat": 4,
  "nbformat_minor": 2
}
