{
 "cells": [
  {
   "cell_type": "markdown",
   "metadata": {},
   "source": [
    "# DONT RUN\n",
    "\n",
    "- you dont need to execute this file yourself\n",
    "- it would automatically get executed as part of the paginate [scripts](./../360-paginate_data/360-paginate_data.ipynb)\n",
    "- more details [here](../readme.md)\n"
   ]
  },
  {
   "cell_type": "markdown",
   "metadata": {},
   "source": [
    "# setup\n"
   ]
  },
  {
   "cell_type": "code",
   "execution_count": 2,
   "metadata": {},
   "outputs": [
    {
     "name": "stdout",
     "output_type": "stream",
     "text": [
      "github_token.config is already in .gitignore\n",
      "GITHUB_TOKEN already exists in the config file. skipping token creation\n"
     ]
    }
   ],
   "source": [
    "# magic commands\n",
    "\n",
    "%run ../../100-set_parameters/100-set_parameters.ipynb"
   ]
  },
  {
   "cell_type": "code",
   "execution_count": 4,
   "metadata": {},
   "outputs": [],
   "source": [
    "# query parameters\n",
    "\n",
    "with open('./../360-paginate_data/issue_params.json', 'r') as file:\n",
    "    fetch_issue_parameters = json.load(file)\n",
    "\n",
    "repository_name = fetch_issue_parameters[\"repository_name\"]\n",
    "owner_name = fetch_issue_parameters[\"owner_name\"]\n",
    "number_of_issues = fetch_issue_parameters[\"number_of_issues\"]\n",
    "end_cursor = fetch_issue_parameters[\"end_cursor\"]\n",
    "\n",
    "fetch_issue_parameters = {\n",
    "    \"repository_name\": repository_name,\n",
    "    \"owner_name\": owner_name,\n",
    "    \"number_of_issues\": number_of_issues,\n",
    "    \"end_cursor_value\": end_cursor\n",
    "}"
   ]
  },
  {
   "cell_type": "code",
   "execution_count": 5,
   "metadata": {},
   "outputs": [
    {
     "name": "stdout",
     "output_type": "stream",
     "text": [
      "{'repository_name': 'tensorflow', 'owner_name': 'tensorflow', 'number_of_issues': 100, 'end_cursor_value': 'garbage values before first run happens'}\n"
     ]
    }
   ],
   "source": [
    "print(fetch_issue_parameters)"
   ]
  },
  {
   "cell_type": "markdown",
   "metadata": {},
   "source": [
    "# fetch first 100 closed issues\n"
   ]
  },
  {
   "cell_type": "code",
   "execution_count": null,
   "metadata": {},
   "outputs": [],
   "source": [
    "# store result\n",
    "\n",
    "first_100_closed_issues = global_query(fetch_first_100_closed_issues, fetch_issue_parameters)"
   ]
  },
  {
   "cell_type": "markdown",
   "metadata": {},
   "source": [
    "## dictionary to dataframe\n"
   ]
  },
  {
   "cell_type": "code",
   "execution_count": null,
   "metadata": {},
   "outputs": [],
   "source": [
    "# drill down\n",
    "# take the dictionary result from previous step\n",
    "# reach out to a particular level within that dictionary (edges in this case)\n",
    "# store that inside a dataframe\n",
    "\n",
    "df = pd.DataFrame(d['node'] for d in first_100_closed_issues['data']['repository']['issues']['edges'])\n",
    "df"
   ]
  },
  {
   "cell_type": "markdown",
   "metadata": {},
   "source": [
    "## comments\n"
   ]
  },
  {
   "cell_type": "code",
   "execution_count": null,
   "metadata": {},
   "outputs": [],
   "source": [
    "# access comments\n",
    "\n",
    "df['comments'] = df['comments'].str['edges']"
   ]
  },
  {
   "cell_type": "code",
   "execution_count": null,
   "metadata": {},
   "outputs": [],
   "source": [
    "# explode comments\n",
    "\n",
    "df_flat_comments = df.explode('comments')\n",
    "df_flat_comments['comments'] = df_flat_comments['comments'].str['node'].str['body']"
   ]
  },
  {
   "cell_type": "markdown",
   "metadata": {},
   "source": [
    "## labels\n"
   ]
  },
  {
   "cell_type": "code",
   "execution_count": null,
   "metadata": {},
   "outputs": [],
   "source": [
    "# access labels\n",
    "df_flat_comments['labels'] = df_flat_comments['labels'].str['edges']"
   ]
  },
  {
   "cell_type": "code",
   "execution_count": null,
   "metadata": {},
   "outputs": [],
   "source": [
    "# explode labels\n",
    "df_flat_comments_and_labels = df_flat_comments.explode('labels')\n",
    "df_flat_comments_and_labels['labels'] = df_flat_comments_and_labels['labels'].str['node'].str['name']"
   ]
  },
  {
   "cell_type": "markdown",
   "metadata": {},
   "source": [
    "## final dataframe\n"
   ]
  },
  {
   "cell_type": "code",
   "execution_count": null,
   "metadata": {},
   "outputs": [],
   "source": [
    "# print to screen\n",
    "\n",
    "df_flat_comments_and_labels"
   ]
  },
  {
   "cell_type": "markdown",
   "metadata": {},
   "source": [
    "## insert data\n"
   ]
  },
  {
   "cell_type": "code",
   "execution_count": null,
   "metadata": {},
   "outputs": [],
   "source": [
    "# insert into csv\n",
    "\n",
    "df_flat_comments_and_labels.to_csv(\"320-first_100_closed_issues.csv\")"
   ]
  },
  {
   "cell_type": "code",
   "execution_count": null,
   "metadata": {},
   "outputs": [],
   "source": [
    "# insert into json\n",
    "\n",
    "f = open(\"320-first_100_closed_issues.json\", \"w\")\n",
    "f.write(json.dumps(first_100_closed_issues))\n",
    "f.close()"
   ]
  }
 ],
 "metadata": {
  "kernelspec": {
   "display_name": "Python 3",
   "language": "python",
   "name": "python3"
  },
  "language_info": {
   "codemirror_mode": {
    "name": "ipython",
    "version": 3
   },
   "file_extension": ".py",
   "mimetype": "text/x-python",
   "name": "python",
   "nbconvert_exporter": "python",
   "pygments_lexer": "ipython3",
   "version": "3.12.3"
  },
  "orig_nbformat": 4,
  "vscode": {
   "interpreter": {
    "hash": "949777d72b0d2535278d3dc13498b2535136f6dfe0678499012e853ee9abcab1"
   }
  }
 },
 "nbformat": 4,
 "nbformat_minor": 2
}
