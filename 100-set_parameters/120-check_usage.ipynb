{
  "cells": [
    {
      "cell_type": "markdown",
      "metadata": {},
      "source": [
        "# Purpose\n",
        "\n",
        "- **check usage**\n",
        "  - this notebook interacts with the github graphql api to check the rate limits\n",
        "  - it retrieves the current usage limits and usage status\n",
        "  - useful for understanding the available request quota and managing usage efficiently\n",
        "- **more details**\n",
        "  - [github graphql api rate limits](https://docs.github.com/en/graphql/overview/resource-limitations#rate-limit)\n"
      ]
    },
    {
      "cell_type": "markdown",
      "metadata": {},
      "source": [
        "# setup"
      ]
    },
    {
      "cell_type": "code",
      "execution_count": null,
      "metadata": {},
      "outputs": [],
      "source": [
        "# fetch github token, python packages, queries and other parameters\n",
        "\n",
        "%run ./100-set_parameters.ipynb # magic command"
      ]
    },
    {
      "cell_type": "markdown",
      "metadata": {},
      "source": [
        "# fetch limit"
      ]
    },
    {
      "cell_type": "code",
      "execution_count": null,
      "metadata": {},
      "outputs": [],
      "source": [
        "# store result\n",
        "\n",
        "fetch_limit = global_query(check_api_quota_usage, check_usage_empty_variable)"
      ]
    },
    {
      "cell_type": "code",
      "execution_count": null,
      "metadata": {},
      "outputs": [],
      "source": [
        "# print result\n",
        "\n",
        "print(json.dumps(fetch_limit, indent=4))\n"
      ]
    },
    {
      "cell_type": "code",
      "execution_count": null,
      "metadata": {},
      "outputs": [],
      "source": [
        "# extract rateLimit\n",
        "\n",
        "rate_limit_dict = fetch_limit['data']['rateLimit']"
      ]
    },
    {
      "cell_type": "code",
      "execution_count": null,
      "metadata": {},
      "outputs": [],
      "source": [
        "# dict to dataframe\n",
        "\n",
        "df = pd.DataFrame.from_dict(rate_limit_dict, orient='index')"
      ]
    },
    {
      "cell_type": "markdown",
      "metadata": {},
      "source": [
        "# display limit"
      ]
    },
    {
      "cell_type": "code",
      "execution_count": null,
      "metadata": {},
      "outputs": [],
      "source": [
        "# full dataframe\n",
        "\n",
        "df\n",
        "# The GraphQL API rate limit is 5,000 points per hour"
      ]
    },
    {
      "cell_type": "code",
      "execution_count": null,
      "metadata": {},
      "outputs": [],
      "source": [
        "# single column\n",
        "# access individual fields if needed\n",
        "df[0]['resetAt']"
      ]
    }
  ],
  "metadata": {
    "kernelspec": {
      "display_name": "Python 3",
      "language": "python",
      "name": "python3"
    },
    "language_info": {
      "codemirror_mode": {
        "name": "ipython",
        "version": 3
      },
      "file_extension": ".py",
      "mimetype": "text/x-python",
      "name": "python",
      "nbconvert_exporter": "python",
      "pygments_lexer": "ipython3",
      "version": "3.12.3"
    },
    "orig_nbformat": 4,
    "vscode": {
      "interpreter": {
        "hash": "949777d72b0d2535278d3dc13498b2535136f6dfe0678499012e853ee9abcab1"
      }
    }
  },
  "nbformat": 4,
  "nbformat_minor": 2
}
