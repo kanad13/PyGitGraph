{
 "cells": [
  {
   "cell_type": "markdown",
   "metadata": {},
   "source": [
    "# WARNING\n",
    "\n",
    "- DO NOT EXECUTE THIS CODE UNLESS YOU KNOW WHAT YOU ARE DOING\n",
    "- this file has code that allows you to cleanup\n",
    "  - intermediate data files\n",
    "  - final aggregated files\n",
    "  - reset the counter & params files\n",
    "- do not execute this code unless you are fully aware of the impact\n"
   ]
  },
  {
   "cell_type": "markdown",
   "metadata": {},
   "source": [
    "# purpose\n",
    "\n",
    "- the notebooks in this repository keep on creating several files\n",
    "- its a pain to delete them one by one\n",
    "- this notebook helps you delete the csv, json and other sundry files that are created\n"
   ]
  },
  {
   "cell_type": "markdown",
   "metadata": {},
   "source": [
    "# one by one\n",
    "\n",
    "- i have avoided use of regex and deleted each file individually\n",
    "- this allows a user to choose what files to keep and which ones to delete\n"
   ]
  },
  {
   "cell_type": "code",
   "execution_count": null,
   "metadata": {},
   "outputs": [],
   "source": [
    "# import stuff\n",
    "\n",
    "import os\n",
    "import random\n",
    "import json"
   ]
  },
  {
   "cell_type": "markdown",
   "metadata": {},
   "source": [
    "# delete files\n",
    "\n",
    "- this is a single delete function that is called each time a file has to be deleted\n"
   ]
  },
  {
   "cell_type": "code",
   "execution_count": null,
   "metadata": {},
   "outputs": [],
   "source": [
    "# delete function\n",
    "\n",
    "def delete_these(list_of_files):\n",
    "    for file_path in list_of_files:\n",
    "\n",
    "        # first check if file exists\n",
    "        if os.path.exists(file_path):\n",
    "            # now delete the file\n",
    "            os.remove(file_path)\n",
    "            print(f\"deleted file: {file_path}\")\n",
    "\n",
    "        else:\n",
    "            print(f\"file not found: {file_path}\")\n"
   ]
  },
  {
   "cell_type": "code",
   "execution_count": null,
   "metadata": {},
   "outputs": [],
   "source": [
    "# delete fetch_issue_files\n",
    "# this section deletes the files created here - ./200-work_with_issues/220-fetch_issues\n",
    "\n",
    "fetch_issue_files = [\n",
    "    \"./../200-work_with_issues/220-fetch_issues/220-fetch_last_few_issues.csv\",\n",
    "    \"./../200-work_with_issues/220-fetch_issues/220-fetch_last_few_issues.json\",\n",
    "    \"./../200-work_with_issues/220-fetch_issues/220-fetch_last_few_issues.xlsx\",\n",
    "]\n",
    "delete_these(fetch_issue_files)\n"
   ]
  },
  {
   "cell_type": "code",
   "execution_count": null,
   "metadata": {},
   "outputs": [],
   "source": [
    "# delete create_issue_files\n",
    "# this section deletes the files created here - ./200-work_with_issues/260_create_issues\n",
    "\n",
    "create_issue_files = [\n",
    "    \"./../200-work_with_issues/260_create_issues/260-list_of_labels.csv\",\n",
    "    \"./../200-work_with_issues/260_create_issues/260-list_of_repositories.csv\",\n",
    "    \"./../200-work_with_issues/260_create_issues/260-list_of_user_ids.csv\",\n",
    "]\n",
    "\n",
    "delete_these(create_issue_files)\n"
   ]
  },
  {
   "cell_type": "code",
   "execution_count": null,
   "metadata": {},
   "outputs": [],
   "source": [
    "# delete fetch_first_100_issues_files\n",
    "# this section deletes the files created here - ./300-aggregate_data/320-fetch_first_100_closed_issues/\n",
    "\n",
    "fetch_first_100_issues_files = [\n",
    "    \"./../300-aggregate_data/320-fetch_first_100_closed_issues/320-first_100_closed_issues.csv\",\n",
    "    \"./../300-aggregate_data/320-fetch_first_100_closed_issues/320-first_100_closed_issues.json\"\n",
    "]\n",
    "\n",
    "delete_these(fetch_first_100_issues_files)\n"
   ]
  },
  {
   "cell_type": "code",
   "execution_count": null,
   "metadata": {},
   "outputs": [],
   "source": [
    "# delete fetch_next_100_issues_files\n",
    "# this section deletes the files created here - ./300-aggregate_data/340-fetch_next_100_closed_issues/\n",
    "\n",
    "fetch_next_100_issues_files = [\n",
    "    \"./../300-aggregate_data/340-fetch_next_100_closed_issues/340-next_100_closed_issues.csv\",\n",
    "    \"./../300-aggregate_data/340-fetch_next_100_closed_issues/340-next_100_closed_issues.json\",\n",
    "]\n",
    "\n",
    "delete_these(fetch_next_100_issues_files)\n"
   ]
  },
  {
   "cell_type": "code",
   "execution_count": null,
   "metadata": {},
   "outputs": [],
   "source": [
    "# delete paginate_data_files\n",
    "# this section deletes the files created here - ./300-aggregate_data/360-paginate_data/\n",
    "\n",
    "paginate_data_files = [\n",
    "    \"./../300-aggregate_data/360-paginate_data/320-first_100_closed_issues.json\",\n",
    "    \"./../300-aggregate_data/360-paginate_data/320-first_100_closed_issues.csv\",\n",
    "    \"./../300-aggregate_data/360-paginate_data/340-next_100_closed_issues.json\",\n",
    "    \"./../300-aggregate_data/360-paginate_data/340-next_100_closed_issues.csv\",\n",
    "    \"./../300-aggregate_data/360-paginate_data/366-aggregated_data.json\",\n",
    "    \"./../300-aggregate_data/360-paginate_data/366-aggregated_data.csv\",\n",
    "]\n",
    "\n",
    "delete_these(paginate_data_files)\n"
   ]
  },
  {
   "cell_type": "markdown",
   "metadata": {},
   "source": [
    "# reset files\n",
    "\n",
    "- **purpose**\n",
    "  - this section does not delete files\n",
    "  - rather removes all or some content from target files\n",
    "- **conscious decision**\n",
    "  - in order to ensure that the user is consciously making the decision to delete these files, i am asking the user to perform simple addition\n",
    "  - the file will be deleted only if user gives a correct answer\n"
   ]
  },
  {
   "cell_type": "code",
   "execution_count": null,
   "metadata": {},
   "outputs": [],
   "source": [
    "# reset function\n",
    "\n",
    "# function to reset the contents of a file.\n",
    "# it validates the user's math answer before resetting.\n",
    "# Args:\n",
    "    # file_path (str): path to the file to be reset\n",
    "    # data (optional): data to write to the file after resetting\n",
    "\n",
    "def reset_file(file_path, data=None):\n",
    "    # Generate random numbers for num1 and num2\n",
    "    num1 = random.randint(1, 10)\n",
    "    num2 = random.randint(1, 10)\n",
    "    expected_sum = num1 + num2\n",
    "\n",
    "    try:\n",
    "        user_answer = int(input(f\"What is the sum of {num1} and {num2}? \"))\n",
    "\n",
    "        # check if the answer is correct\n",
    "        if user_answer == expected_sum:\n",
    "            print(\"Correct addition\")\n",
    "            print(f\"{file_path} will be reset\")\n",
    "\n",
    "            # remove all contents from the file\n",
    "            with open(file_path, \"w\") as file:\n",
    "                file.truncate()\n",
    "\n",
    "            # previous section makes the file empty\n",
    "            # this section optionally adds details to it to bring it to a desired state\n",
    "            if data is not None:\n",
    "                # check if the data needs to be written as JSON\n",
    "                if isinstance(data, list) or isinstance(data, dict):\n",
    "                    with open(file_path, \"a\") as file:\n",
    "                        json.dump(data, file, indent=4)\n",
    "                else:\n",
    "                    with open(file_path, \"a\") as file:\n",
    "                        file.write(str(data))\n",
    "\n",
    "        else:\n",
    "            # do nothing\n",
    "            print(\"incorrect addition\")\n",
    "\n",
    "    except ValueError:\n",
    "        print(\"please enter a valid integer\")\n"
   ]
  },
  {
   "cell_type": "code",
   "execution_count": null,
   "metadata": {},
   "outputs": [],
   "source": [
    "# reset aggregated_data_file\n",
    "# this section resets the files created here - ./300-aggregate_data/360-paginate_data/\n",
    "# once emptied, they need not be populated with any additional data from inside this file\n",
    "# that will happen in ./300-aggregate_data/360-paginate_data/360-paginate_data.ipynb\n",
    "\n",
    "# uncomment this code if you want to keep the files but just empty them\n",
    "#reset_file(\"./../300-aggregate_data/360-paginate_data/366-aggregated_data.csv\")\n",
    "#reset_file(\"./../300-aggregate_data/360-paginate_data/366-aggregated_data.json\")"
   ]
  },
  {
   "cell_type": "code",
   "execution_count": null,
   "metadata": {},
   "outputs": [],
   "source": [
    "# reset issue_params.json\n",
    "# this section resets the file created here - ./300-aggregate_data/360-paginate_data/\n",
    "# once emptied, it need not be populated with any additional data from inside this file\n",
    "# that will happen in ./300-aggregate_data/360-paginate_data/360-paginate_data.ipynb\n",
    "\n",
    "reset_file(\"./../300-aggregate_data/360-paginate_data/issue_params.json\")"
   ]
  },
  {
   "cell_type": "code",
   "execution_count": null,
   "metadata": {},
   "outputs": [],
   "source": [
    "# reset counter.json\n",
    "reset_file(\n",
    "    \"./../300-aggregate_data/360-paginate_data/counter.json\",\n",
    "    [\n",
    "        {\n",
    "            \"endCursor\": \"garbage values before first run happens\",\n",
    "            \"hasNextPage\": \"counter must be set to zero\",\n",
    "            \"hasPreviousPage\": \"do not edit this file manually\",\n",
    "            \"startCursor\": \"it would be auto-updated\",\n",
    "            \"counter\": 1\n",
    "        }\n",
    "    ]\n",
    ")\n"
   ]
  }
 ],
 "metadata": {
  "kernelspec": {
   "display_name": "Python 3",
   "language": "python",
   "name": "python3"
  },
  "language_info": {
   "codemirror_mode": {
    "name": "ipython",
    "version": 3
   },
   "file_extension": ".py",
   "mimetype": "text/x-python",
   "name": "python",
   "nbconvert_exporter": "python",
   "pygments_lexer": "ipython3",
   "version": "3.12.3"
  },
  "orig_nbformat": 4
 },
 "nbformat": 4,
 "nbformat_minor": 2
}
